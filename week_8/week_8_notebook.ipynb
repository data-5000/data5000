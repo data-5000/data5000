{
  "cells": [
    {
      "cell_type": "markdown",
      "metadata": {
        "id": "6cWocsrcfFRi"
      },
      "source": [
        "# DATA5000 Workshop 8: YOLOV8 SUPERVISION DETECTS OBJECTS IN VIDEOS"
      ]
    },
    {
      "cell_type": "markdown",
      "metadata": {
        "id": "Yyf0Gh_8fFRj"
      },
      "source": [
        "## Preliminaries"
      ]
    },
    {
      "cell_type": "code",
      "execution_count": null,
      "metadata": {
        "id": "lT86PNN0fFRk"
      },
      "outputs": [],
      "source": [
        "# install pytorch\n",
        "%pip install torch torchvision"
      ]
    },
    {
      "cell_type": "code",
      "execution_count": null,
      "metadata": {
        "id": "q-WCFPzJfFRl"
      },
      "outputs": [],
      "source": [
        "# import torch\n",
        "import torch\n",
        "from torch import nn\n",
        "import torch.nn.functional as F"
      ]
    },
    {
      "cell_type": "markdown",
      "metadata": {
        "id": "d0nAV0UjfFRl"
      },
      "source": [
        "## Check for GPU availability - speeds up video and image recognition and other AI tasks"
      ]
    },
    {
      "cell_type": "code",
      "execution_count": null,
      "metadata": {
        "id": "4Sm1XvgGfFRl"
      },
      "outputs": [],
      "source": [
        "# check for GPU availability - only works on Google Colab\n",
        "!nvidia-smi -L"
      ]
    },
    {
      "cell_type": "code",
      "execution_count": null,
      "metadata": {
        "id": "RT9cN_iHfFRm"
      },
      "outputs": [],
      "source": [
        "!nvidia-smi -q"
      ]
    },
    {
      "cell_type": "code",
      "execution_count": null,
      "metadata": {
        "id": "0n8lxPxPfFRm"
      },
      "outputs": [],
      "source": [
        "!nvidia-smi"
      ]
    },
    {
      "cell_type": "code",
      "execution_count": null,
      "metadata": {
        "id": "TH3sq5kefFRm"
      },
      "outputs": [],
      "source": [
        "!lscpu | grep 'Core(s) each processor has/per socket:'"
      ]
    },
    {
      "cell_type": "code",
      "execution_count": null,
      "metadata": {
        "id": "eYyFxjRsfFRm"
      },
      "outputs": [],
      "source": [
        "!lscpu | grep 'Number of threads/core:'"
      ]
    },
    {
      "cell_type": "code",
      "execution_count": null,
      "metadata": {
        "id": "jAVn4wdOfFRm"
      },
      "outputs": [],
      "source": [
        "!free -h --si | awk  '/Mem:/{print $2}'"
      ]
    },
    {
      "cell_type": "markdown",
      "metadata": {
        "id": "23jshYa-AGkl"
      },
      "source": [
        "# Set HOME folder to store videos"
      ]
    },
    {
      "cell_type": "code",
      "execution_count": null,
      "metadata": {
        "id": "8E2QU8CUfFRm"
      },
      "outputs": [],
      "source": [
        "# create folder for data\n",
        "import os\n",
        "HOME = os.getcwd()\n",
        "print(HOME)"
      ]
    },
    {
      "cell_type": "code",
      "execution_count": null,
      "metadata": {
        "id": "tnqUVQc6fFRn"
      },
      "outputs": [],
      "source": [
        "!mkdir {HOME}/videos"
      ]
    },
    {
      "cell_type": "code",
      "execution_count": null,
      "metadata": {
        "id": "om0yi67gfFRn"
      },
      "outputs": [],
      "source": [
        "%cd {HOME}/videos\n",
        "\n",
        "# get videos of traffic conditions\n",
        "!wget -q https://s3.ap-southeast-2.wasabisys.com/data5000/pexels_videos_1860079_traffic.mp4"
      ]
    },
    {
      "cell_type": "code",
      "execution_count": null,
      "metadata": {
        "id": "eMjFpCBtAzEO"
      },
      "outputs": [],
      "source": [
        "SOURCE_VIDEO_PATH = f\"{HOME}/videos/pexels_videos_1860079_traffic.mp4\"\n",
        "SOURCE_VIDEO_PATH"
      ]
    },
    {
      "cell_type": "markdown",
      "metadata": {
        "id": "3XXqIPcjBLxk"
      },
      "source": [
        "## Install Ultralytics"
      ]
    },
    {
      "cell_type": "code",
      "execution_count": null,
      "metadata": {
        "id": "kCaLt0YxBKyI"
      },
      "outputs": [],
      "source": [
        "!pip install ultralytics\n",
        "\n",
        "from IPython import display\n",
        "display.clear_output()\n",
        "\n",
        "import ultralytics\n",
        "ultralytics.checks()"
      ]
    },
    {
      "cell_type": "markdown",
      "metadata": {
        "id": "_WCxT6H9AFOL"
      },
      "source": [
        "# Install Supervision"
      ]
    },
    {
      "cell_type": "code",
      "execution_count": null,
      "metadata": {
        "id": "IcpgrvWIAUD7"
      },
      "outputs": [],
      "source": [
        "!pip install supervision\n",
        "\n",
        "from IPython import display\n",
        "display.clear_output()\n",
        "\n",
        "# we are importing supervision aliased as superviz\n",
        "import supervision as superviz\n",
        "print(\"supervision.__version__:\", superviz.__version__)"
      ]
    },
    {
      "cell_type": "markdown",
      "metadata": {
        "id": "1KIrqRT-AZs1"
      },
      "source": [
        "# Object detection in videos"
      ]
    },
    {
      "cell_type": "markdown",
      "metadata": {
        "id": "ig0cSekOAmcv"
      },
      "source": [
        "- xyxy `(np.ndarray)`: An array of shape `(n, 4)` containing the bounding boxes coordinates in format `[x1, y1, x2, y2]`\n",
        "- mask: `(Optional[np.ndarray])`: An array of shape `(n, W, H)` containing the segmentation masks.\n",
        "- confidence `(Optional[np.ndarray])`: An array of shape `(n,)` containing the confidence scores of the detections.\n",
        "- class_id `(Optional[np.ndarray])`: An array of shape `(n,)` containing the class ids of the detections.\n",
        "- tracker_id `(Optional[np.ndarray])`: An array of shape `(n,)` containing the tracker ids of the detections."
      ]
    },
    {
      "cell_type": "code",
      "execution_count": null,
      "metadata": {
        "id": "VxJ8v_arAghv"
      },
      "outputs": [],
      "source": [
        "MODEL = \"yolov8x.pt\""
      ]
    },
    {
      "cell_type": "code",
      "execution_count": null,
      "metadata": {
        "id": "_xyqnpO_Bk_I"
      },
      "outputs": [],
      "source": [
        "from ultralytics import YOLO\n",
        "\n",
        "model = YOLO(MODEL)\n",
        "model.fuse()"
      ]
    },
    {
      "cell_type": "code",
      "execution_count": null,
      "metadata": {
        "id": "A1gs-xpMBq1b"
      },
      "outputs": [],
      "source": [
        "# dict maping class_id to class_name\n",
        "CLASS_NAMES_DICT = model.model.names\n",
        "\n",
        "# class_ids of interest - car, motorcycle, bus and truck\n",
        "selected_classes = [2, 3, 5, 7]"
      ]
    },
    {
      "cell_type": "code",
      "execution_count": null,
      "metadata": {
        "id": "FoZZ094JBuJI"
      },
      "outputs": [],
      "source": [
        "import supervision as superviz\n",
        "import numpy as np"
      ]
    },
    {
      "cell_type": "code",
      "execution_count": null,
      "metadata": {
        "colab": {
          "background_save": true
        },
        "id": "cKH5IOoKBxX3"
      },
      "outputs": [],
      "source": [
        "# create frame generator\n",
        "frame_generator = superviz.get_video_frames_generator(SOURCE_VIDEO_PATH)\n",
        "\n",
        "\n",
        "# create instance of BoxAnnotator\n",
        "box_annotator = superviz.BoxAnnotator(thickness=4)\n",
        "\n",
        "\n",
        "# acquire first video frame\n",
        "iterator = iter(frame_generator)\n",
        "\n",
        "\n",
        "frame = next(iterator)\n",
        "\n",
        "# model prediction on single frame and conversion to supervision Detections\n",
        "results = model(frame, verbose=False)[0]\n",
        "\n",
        "# convert to Detections\n",
        "detections = superviz.Detections.from_ultralytics(results)\n",
        "\n",
        "# only take class id from selected_classes define above\n",
        "detections = detections[np.isin(detections.class_id, selected_classes)]\n",
        "\n",
        "\n",
        "# format custom labels\n",
        "\n",
        "labels = [\n",
        "    f\"{CLASS_NAMES_DICT[class_id]} {confidence:0.2f}\"\n",
        "    for confidence, class_id in zip(detections.confidence, detections.class_id)\n",
        "]\n",
        "\n",
        "\n",
        "# annotate and display frame\n",
        "anotated_frame=box_annotator.annotate(scene=frame, detections=detections)\n",
        "\n",
        "%matplotlib inline\n",
        "superviz.plot_image(anotated_frame, (16,16))"
      ]
    },
    {
      "cell_type": "markdown",
      "metadata": {
        "id": "X8ogGe09CiyN"
      },
      "source": [
        "# Great - so we know we can detect vehicales etc...in a frame of video i.e., an image. Now let us extend this to the entire video"
      ]
    },
    {
      "cell_type": "markdown",
      "metadata": {
        "id": "Q16zhQ8QCwwg"
      },
      "source": [
        "# Predict and label the entire video clip"
      ]
    },
    {
      "cell_type": "code",
      "execution_count": null,
      "metadata": {
        "id": "9_qK1eQv-AEN"
      },
      "outputs": [],
      "source": [
        "!pip install ultralytics\n",
        "\n",
        "from IPython import display\n",
        "display.clear_output()\n",
        "\n",
        "import ultralytics\n",
        "ultralytics.checks()\n",
        "\n",
        "\"\"\"install byte-track\"\"\"\n",
        "\n",
        "# Commented out IPython magic to ensure Python compatibility.\n",
        "# %cd {HOME}\n",
        "!git clone https://github.com/ifzhang/ByteTrack.git\n",
        "!cd ByteTrack && pip3 install -q -r requirements.txt\n",
        "!cd ByteTrack && python3 setup.py -q develop\n",
        "!pip install -q cython_bbox\n",
        "!pip install -q onemetric\n",
        "\n",
        "from IPython import display\n",
        "display.clear_output()"
      ]
    },
    {
      "cell_type": "code",
      "execution_count": null,
      "metadata": {
        "id": "8GfKsMQmpcOZ"
      },
      "outputs": [],
      "source": [
        "!pip install roboflow==0.2.34"
      ]
    },
    {
      "cell_type": "code",
      "execution_count": null,
      "metadata": {
        "id": "22bEcwHayjrK"
      },
      "outputs": [],
      "source": [
        "!pip install supervision==0.1.0\n",
        "import supervision\n",
        "print(\"supervision.__version__:\", supervision.__version__)\n",
        "\n",
        "from supervision.draw.color import ColorPalette\n",
        "from supervision.geometry.dataclasses import Point\n",
        "from supervision.video.dataclasses import VideoInfo\n",
        "from supervision.video.source import get_video_frames_generator\n",
        "from supervision.video.sink import VideoSink\n",
        "from supervision.notebook.utils import show_frame_in_notebook\n",
        "from supervision.tools.detections import Detections, BoxAnnotator\n",
        "from supervision.tools.line_counter import LineCounter, LineCounterAnnotator\n",
        "\n",
        "from typing import List\n",
        "\n",
        "import numpy as np\n",
        "\n"
      ]
    },
    {
      "cell_type": "code",
      "execution_count": null,
      "metadata": {
        "id": "Jr8QJix2zr6O"
      },
      "outputs": [],
      "source": [
        "import sys\n",
        "\n",
        "import os\n",
        "HOME = os.getcwd()\n",
        "print(HOME)\n",
        "sys.path.append(f\"{HOME}/ByteTrack\")\n",
        "\n",
        "\n",
        "!pip install loguru\n",
        "!pip install tqdm\n",
        "!pip install lap\n",
        "from yolox.tracker.byte_tracker import BYTETracker, STrack\n",
        "from onemetric.cv.utils.iou import box_iou_batch\n",
        "from dataclasses import dataclass\n",
        "import tqdm"
      ]
    },
    {
      "cell_type": "code",
      "execution_count": null,
      "metadata": {
        "id": "zc7apqgu-Ux-"
      },
      "outputs": [],
      "source": [
        "# converts Detections into format that can be consumed by match_detections_with_tracks function\n",
        "def detections2boxes(detections: Detections) -> np.ndarray:\n",
        "    return np.hstack((\n",
        "        detections.xyxy,\n",
        "        detections.confidence[:, np.newaxis]\n",
        "    ))\n",
        "\n",
        "\n",
        "# converts List[STrack] into format that can be consumed by match_detections_with_tracks function\n",
        "def tracks2boxes(tracks: List[STrack]) -> np.ndarray:\n",
        "    return np.array([\n",
        "        track.tlbr\n",
        "        for track\n",
        "        in tracks\n",
        "    ], dtype=float)\n",
        "\n",
        "\n",
        "# matches our bounding boxes with predictions\n",
        "def match_detections_with_tracks(\n",
        "    detections: Detections,\n",
        "    tracks: List[STrack]\n",
        ") -> Detections:\n",
        "    if not np.any(detections.xyxy) or len(tracks) == 0:\n",
        "        return np.empty((0,))\n",
        "\n",
        "    tracks_boxes = tracks2boxes(tracks=tracks)\n",
        "    iou = box_iou_batch(tracks_boxes, detections.xyxy)\n",
        "    track2detection = np.argmax(iou, axis=1)\n",
        "\n",
        "    tracker_ids = [None] * len(detections)\n",
        "\n",
        "    for tracker_index, detection_index in enumerate(track2detection):\n",
        "        if iou[tracker_index, detection_index] != 0:\n",
        "            tracker_ids[detection_index] = tracks[tracker_index].track_id\n",
        "\n",
        "    return tracker_ids\n"
      ]
    },
    {
      "cell_type": "code",
      "execution_count": null,
      "metadata": {
        "id": "JaAVachQ4jY9"
      },
      "outputs": [],
      "source": [
        "@dataclass(frozen=True)\n",
        "class BYTETrackerArgs:\n",
        "    track_thresh: float = 0.25\n",
        "    track_buffer: int = 30\n",
        "    match_thresh: float = 0.8\n",
        "    aspect_ratio_thresh: float = 3.0\n",
        "    min_box_area: float = 1.0\n",
        "    mot20: bool = False"
      ]
    },
    {
      "cell_type": "code",
      "execution_count": null,
      "metadata": {
        "id": "VG4TkPC6EblH"
      },
      "outputs": [],
      "source": [
        "#SOURCE_VIDEO_PATH = f\"{HOME}/videos/pexels_videos_1860079_traffic.mp4\"\n",
        "SOURCE_VIDEO_PATH\n",
        "\n",
        "generator = get_video_frames_generator(SOURCE_VIDEO_PATH)\n",
        "\n",
        "VideoInfo.from_video_path(SOURCE_VIDEO_PATH)\n"
      ]
    },
    {
      "cell_type": "code",
      "execution_count": null,
      "metadata": {
        "id": "VRPFy2tGDWa6"
      },
      "outputs": [],
      "source": [
        "# create BYTETracker instance\n",
        "byte_tracker = BYTETracker(BYTETrackerArgs())\n",
        "\n",
        "\n",
        "# create VideoInfo instance\n",
        "video_info = VideoInfo.from_video_path(SOURCE_VIDEO_PATH)\n",
        "\n",
        "# create frame generator\n",
        "generator = get_video_frames_generator(SOURCE_VIDEO_PATH)\n",
        "\n",
        "# create LineZone instance, it is previously called LineCounter class\n",
        "#line_counter = LineCounter(start=LINE_START, end=LINE_END)\n",
        "\n",
        "# create instance of BoxAnnotator\n",
        "box_annotator = BoxAnnotator(color=ColorPalette(), thickness=4, text_thickness=4, text_scale=2)\n",
        "\n",
        "# create instance of TraceAnnotator\n",
        "#trace_annotator = superviz.TraceAnnotator(thickness=4, trace_length=50)\n",
        "\n",
        "# create LineZoneAnnotator instance, it is previously called LineCounterAnnotator class\n",
        "#line_zone_annotator = superviz.LineZoneAnnotator(thickness=4, text_thickness=4, text_scale=2)\n",
        "\n",
        "# define call back function to be used in video processing\n",
        "def callback(frame: np.ndarray, index:int) -> np.ndarray:\n",
        "\n",
        "    # model prediction on single frame and conversion to supervision detections\n",
        "    results = model(frame, verbose=False)[0]\n",
        "    detections = superviz.Detections.from_ultralytics(results)\n",
        "\n",
        "    # only consider class id from selected_classes define above\n",
        "    detections = detections[np.isin(detections.class_id, selected_classes)]\n",
        "\n",
        "    # tracking detections\n",
        "    detections = byte_tracker.update_with_detections(detections)\n",
        "\n",
        "    labels = [\n",
        "        f\"#{tracker_id} {model.model.names[class_id]} {confidence:0.2f}\"\n",
        "        for _, _, confidence, class_id, tracker_id\n",
        "        in detections\n",
        "    ]\n",
        "\n",
        "    annotated_frame = trace_annotator.annotate(\n",
        "        scene=frame.copy(),\n",
        "        detections=detections\n",
        "    )\n",
        "\n",
        "    annotated_frame=box_annotator.annotate(\n",
        "        scene=annotated_frame,\n",
        "        detections=detections,\n",
        "        labels=labels)\n",
        "\n",
        "    # update line counter\n",
        "    line_zone.trigger(detections)\n",
        "\n",
        "\n",
        "    # return frame with box and line annotated result\n",
        "    return  line_zone_annotator.annotate(annotated_frame, line_counter=line_zone)\n",
        "\n",
        "    # process the whole video\n",
        "superviz.process_video(\n",
        "    source_path = SOURCE_VIDEO_PATH,\n",
        "    target_path = TARGET_VIDEO_PATH,\n",
        "    callback=callback\n",
        ")"
      ]
    },
    {
      "cell_type": "code",
      "execution_count": null,
      "metadata": {
        "id": "DRYR0-XPJtFU"
      },
      "outputs": [],
      "source": [
        "from IPython.display import HTML\n",
        "\n",
        "HTML(\"\"\"\n",
        "    <video width=\"320\" height=\"240\" controls>\n",
        "        <source src={SOURCE_VIDEO_PATH} type=\"video/mp4\">\n",
        "    </video>\n",
        "\"\"\")"
      ]
    },
    {
      "cell_type": "code",
      "execution_count": null,
      "metadata": {
        "id": "OMmDrflTJ_LK"
      },
      "outputs": [],
      "source": [
        "from IPython.display import HTML\n",
        "\n",
        "HTML(\"\"\"\n",
        "    <video width=\"320\" height=\"240\" controls>\n",
        "        <source src={TARGET_VIDEO_PATH} type=\"video/mp4\">\n",
        "    </video>\n",
        "\"\"\")"
      ]
    }
  ],
  "metadata": {
    "accelerator": "GPU",
    "colab": {
      "gpuType": "T4",
      "provenance": []
    },
    "kernelspec": {
      "display_name": "Python 3",
      "name": "python3"
    },
    "language_info": {
      "codemirror_mode": {
        "name": "ipython",
        "version": 3
      },
      "file_extension": ".py",
      "mimetype": "text/x-python",
      "name": "python",
      "nbconvert_exporter": "python",
      "pygments_lexer": "ipython3",
      "version": "3.11.5"
    }
  },
  "nbformat": 4,
  "nbformat_minor": 0
}